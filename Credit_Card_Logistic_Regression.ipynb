{
 "cells": [
  {
   "cell_type": "code",
   "execution_count": 1,
   "metadata": {},
   "outputs": [
    {
     "name": "stdout",
     "output_type": "stream",
     "text": [
      "'data.frame':\t284807 obs. of  31 variables:\n",
      " $ Time  : num  0 0 1 1 2 2 4 7 7 9 ...\n",
      " $ V1    : num  -1.36 1.192 -1.358 -0.966 -1.158 ...\n",
      " $ V2    : num  -0.0728 0.2662 -1.3402 -0.1852 0.8777 ...\n",
      " $ V3    : num  2.536 0.166 1.773 1.793 1.549 ...\n",
      " $ V4    : num  1.378 0.448 0.38 -0.863 0.403 ...\n",
      " $ V5    : num  -0.3383 0.06 -0.5032 -0.0103 -0.4072 ...\n",
      " $ V6    : num  0.4624 -0.0824 1.8005 1.2472 0.0959 ...\n",
      " $ V7    : num  0.2396 -0.0788 0.7915 0.2376 0.5929 ...\n",
      " $ V8    : num  0.0987 0.0851 0.2477 0.3774 -0.2705 ...\n",
      " $ V9    : num  0.364 -0.255 -1.515 -1.387 0.818 ...\n",
      " $ V10   : num  0.0908 -0.167 0.2076 -0.055 0.7531 ...\n",
      " $ V11   : num  -0.552 1.613 0.625 -0.226 -0.823 ...\n",
      " $ V12   : num  -0.6178 1.0652 0.0661 0.1782 0.5382 ...\n",
      " $ V13   : num  -0.991 0.489 0.717 0.508 1.346 ...\n",
      " $ V14   : num  -0.311 -0.144 -0.166 -0.288 -1.12 ...\n",
      " $ V15   : num  1.468 0.636 2.346 -0.631 0.175 ...\n",
      " $ V16   : num  -0.47 0.464 -2.89 -1.06 -0.451 ...\n",
      " $ V17   : num  0.208 -0.115 1.11 -0.684 -0.237 ...\n",
      " $ V18   : num  0.0258 -0.1834 -0.1214 1.9658 -0.0382 ...\n",
      " $ V19   : num  0.404 -0.146 -2.262 -1.233 0.803 ...\n",
      " $ V20   : num  0.2514 -0.0691 0.525 -0.208 0.4085 ...\n",
      " $ V21   : num  -0.01831 -0.22578 0.248 -0.1083 -0.00943 ...\n",
      " $ V22   : num  0.27784 -0.63867 0.77168 0.00527 0.79828 ...\n",
      " $ V23   : num  -0.11 0.101 0.909 -0.19 -0.137 ...\n",
      " $ V24   : num  0.0669 -0.3398 -0.6893 -1.1756 0.1413 ...\n",
      " $ V25   : num  0.129 0.167 -0.328 0.647 -0.206 ...\n",
      " $ V26   : num  -0.189 0.126 -0.139 -0.222 0.502 ...\n",
      " $ V27   : num  0.13356 -0.00898 -0.05535 0.06272 0.21942 ...\n",
      " $ V28   : num  -0.0211 0.0147 -0.0598 0.0615 0.2152 ...\n",
      " $ Amount: num  149.62 2.69 378.66 123.5 69.99 ...\n",
      " $ Class : int  0 0 0 0 0 0 0 0 0 0 ...\n",
      " Factor w/ 2 levels \"0\",\"1\": 1 1 1 1 1 1 1 1 1 1 ...\n"
     ]
    }
   ],
   "source": [
    "credit_crd<-read.csv(\"D:\\\\R_TXT_MINE_DATA\\\\creditcard.csv\",header = TRUE,\n",
    "                   stringsAsFactors = FALSE,\n",
    "                   strip.white = TRUE ,\n",
    "                   sep = ',')\n",
    "\n",
    "#checking overall dataset and coverting 'class' as factor variables \n",
    "str(credit_crd)\n",
    "credit_crd$Class = as.factor(credit_crd$Class)\n",
    "str(credit_crd$Class)"
   ]
  },
  {
   "cell_type": "code",
   "execution_count": 2,
   "metadata": {},
   "outputs": [
    {
     "data": {
      "text/html": [
       "<table>\n",
       "<thead><tr><th scope=col>V1</th><th scope=col>V2</th><th scope=col>V3</th><th scope=col>V4</th><th scope=col>V5</th><th scope=col>V6</th><th scope=col>V7</th><th scope=col>V8</th><th scope=col>V9</th><th scope=col>V10</th><th scope=col>...</th><th scope=col>V21</th><th scope=col>V22</th><th scope=col>V23</th><th scope=col>V24</th><th scope=col>V25</th><th scope=col>V26</th><th scope=col>V27</th><th scope=col>V28</th><th scope=col>Amount</th><th scope=col>Class</th></tr></thead>\n",
       "<tbody>\n",
       "\t<tr><td>-1.3598071  </td><td>-0.07278117 </td><td>2.5363467   </td><td> 1.3781552  </td><td>-0.33832077 </td><td> 0.46238778 </td><td> 0.23959855 </td><td> 0.09869790 </td><td> 0.3637870  </td><td> 0.09079417 </td><td>...         </td><td>-0.018306778</td><td> 0.277837576</td><td>-0.11047391 </td><td> 0.06692807 </td><td> 0.1285394  </td><td>-0.1891148  </td><td> 0.133558377</td><td>-0.02105305 </td><td>149.62      </td><td>0           </td></tr>\n",
       "\t<tr><td> 1.1918571  </td><td> 0.26615071 </td><td>0.1664801   </td><td> 0.4481541  </td><td> 0.06001765 </td><td>-0.08236081 </td><td>-0.07880298 </td><td> 0.08510165 </td><td>-0.2554251  </td><td>-0.16697441 </td><td>...         </td><td>-0.225775248</td><td>-0.638671953</td><td> 0.10128802 </td><td>-0.33984648 </td><td> 0.1671704  </td><td> 0.1258945  </td><td>-0.008983099</td><td> 0.01472417 </td><td>  2.69      </td><td>0           </td></tr>\n",
       "\t<tr><td>-1.3583541  </td><td>-1.34016307 </td><td>1.7732093   </td><td> 0.3797796  </td><td>-0.50319813 </td><td> 1.80049938 </td><td> 0.79146096 </td><td> 0.24767579 </td><td>-1.5146543  </td><td> 0.20764287 </td><td>...         </td><td> 0.247998153</td><td> 0.771679402</td><td> 0.90941226 </td><td>-0.68928096 </td><td>-0.3276418  </td><td>-0.1390966  </td><td>-0.055352794</td><td>-0.05975184 </td><td>378.66      </td><td>0           </td></tr>\n",
       "\t<tr><td>-0.9662717  </td><td>-0.18522601 </td><td>1.7929933   </td><td>-0.8632913  </td><td>-0.01030888 </td><td> 1.24720317 </td><td> 0.23760894 </td><td> 0.37743587 </td><td>-1.3870241  </td><td>-0.05495192 </td><td>...         </td><td>-0.108300452</td><td> 0.005273597</td><td>-0.19032052 </td><td>-1.17557533 </td><td> 0.6473760  </td><td>-0.2219288  </td><td> 0.062722849</td><td> 0.06145763 </td><td>123.50      </td><td>0           </td></tr>\n",
       "\t<tr><td>-1.1582331  </td><td> 0.87773675 </td><td>1.5487178   </td><td> 0.4030339  </td><td>-0.40719338 </td><td> 0.09592146 </td><td> 0.59294075 </td><td>-0.27053268 </td><td> 0.8177393  </td><td> 0.75307443 </td><td>...         </td><td>-0.009430697</td><td> 0.798278495</td><td>-0.13745808 </td><td> 0.14126698 </td><td>-0.2060096  </td><td> 0.5022922  </td><td> 0.219422230</td><td> 0.21515315 </td><td> 69.99      </td><td>0           </td></tr>\n",
       "\t<tr><td>-0.4259659  </td><td> 0.96052304 </td><td>1.1411093   </td><td>-0.1682521  </td><td> 0.42098688 </td><td>-0.02972755 </td><td> 0.47620095 </td><td> 0.26031433 </td><td>-0.5686714  </td><td>-0.37140720 </td><td>...         </td><td>-0.208253515</td><td>-0.559824796</td><td>-0.02639767 </td><td>-0.37142658 </td><td>-0.2327938  </td><td> 0.1059148  </td><td> 0.253844225</td><td> 0.08108026 </td><td>  3.67      </td><td>0           </td></tr>\n",
       "</tbody>\n",
       "</table>\n"
      ],
      "text/latex": [
       "\\begin{tabular}{r|llllllllllllllllllllllllllllll}\n",
       " V1 & V2 & V3 & V4 & V5 & V6 & V7 & V8 & V9 & V10 & ... & V21 & V22 & V23 & V24 & V25 & V26 & V27 & V28 & Amount & Class\\\\\n",
       "\\hline\n",
       "\t -1.3598071   & -0.07278117  & 2.5363467    &  1.3781552   & -0.33832077  &  0.46238778  &  0.23959855  &  0.09869790  &  0.3637870   &  0.09079417  & ...          & -0.018306778 &  0.277837576 & -0.11047391  &  0.06692807  &  0.1285394   & -0.1891148   &  0.133558377 & -0.02105305  & 149.62       & 0           \\\\\n",
       "\t  1.1918571   &  0.26615071  & 0.1664801    &  0.4481541   &  0.06001765  & -0.08236081  & -0.07880298  &  0.08510165  & -0.2554251   & -0.16697441  & ...          & -0.225775248 & -0.638671953 &  0.10128802  & -0.33984648  &  0.1671704   &  0.1258945   & -0.008983099 &  0.01472417  &   2.69       & 0           \\\\\n",
       "\t -1.3583541   & -1.34016307  & 1.7732093    &  0.3797796   & -0.50319813  &  1.80049938  &  0.79146096  &  0.24767579  & -1.5146543   &  0.20764287  & ...          &  0.247998153 &  0.771679402 &  0.90941226  & -0.68928096  & -0.3276418   & -0.1390966   & -0.055352794 & -0.05975184  & 378.66       & 0           \\\\\n",
       "\t -0.9662717   & -0.18522601  & 1.7929933    & -0.8632913   & -0.01030888  &  1.24720317  &  0.23760894  &  0.37743587  & -1.3870241   & -0.05495192  & ...          & -0.108300452 &  0.005273597 & -0.19032052  & -1.17557533  &  0.6473760   & -0.2219288   &  0.062722849 &  0.06145763  & 123.50       & 0           \\\\\n",
       "\t -1.1582331   &  0.87773675  & 1.5487178    &  0.4030339   & -0.40719338  &  0.09592146  &  0.59294075  & -0.27053268  &  0.8177393   &  0.75307443  & ...          & -0.009430697 &  0.798278495 & -0.13745808  &  0.14126698  & -0.2060096   &  0.5022922   &  0.219422230 &  0.21515315  &  69.99       & 0           \\\\\n",
       "\t -0.4259659   &  0.96052304  & 1.1411093    & -0.1682521   &  0.42098688  & -0.02972755  &  0.47620095  &  0.26031433  & -0.5686714   & -0.37140720  & ...          & -0.208253515 & -0.559824796 & -0.02639767  & -0.37142658  & -0.2327938   &  0.1059148   &  0.253844225 &  0.08108026  &   3.67       & 0           \\\\\n",
       "\\end{tabular}\n"
      ],
      "text/markdown": [
       "\n",
       "V1 | V2 | V3 | V4 | V5 | V6 | V7 | V8 | V9 | V10 | ... | V21 | V22 | V23 | V24 | V25 | V26 | V27 | V28 | Amount | Class | \n",
       "|---|---|---|---|---|---|\n",
       "| -1.3598071   | -0.07278117  | 2.5363467    |  1.3781552   | -0.33832077  |  0.46238778  |  0.23959855  |  0.09869790  |  0.3637870   |  0.09079417  | ...          | -0.018306778 |  0.277837576 | -0.11047391  |  0.06692807  |  0.1285394   | -0.1891148   |  0.133558377 | -0.02105305  | 149.62       | 0            | \n",
       "|  1.1918571   |  0.26615071  | 0.1664801    |  0.4481541   |  0.06001765  | -0.08236081  | -0.07880298  |  0.08510165  | -0.2554251   | -0.16697441  | ...          | -0.225775248 | -0.638671953 |  0.10128802  | -0.33984648  |  0.1671704   |  0.1258945   | -0.008983099 |  0.01472417  |   2.69       | 0            | \n",
       "| -1.3583541   | -1.34016307  | 1.7732093    |  0.3797796   | -0.50319813  |  1.80049938  |  0.79146096  |  0.24767579  | -1.5146543   |  0.20764287  | ...          |  0.247998153 |  0.771679402 |  0.90941226  | -0.68928096  | -0.3276418   | -0.1390966   | -0.055352794 | -0.05975184  | 378.66       | 0            | \n",
       "| -0.9662717   | -0.18522601  | 1.7929933    | -0.8632913   | -0.01030888  |  1.24720317  |  0.23760894  |  0.37743587  | -1.3870241   | -0.05495192  | ...          | -0.108300452 |  0.005273597 | -0.19032052  | -1.17557533  |  0.6473760   | -0.2219288   |  0.062722849 |  0.06145763  | 123.50       | 0            | \n",
       "| -1.1582331   |  0.87773675  | 1.5487178    |  0.4030339   | -0.40719338  |  0.09592146  |  0.59294075  | -0.27053268  |  0.8177393   |  0.75307443  | ...          | -0.009430697 |  0.798278495 | -0.13745808  |  0.14126698  | -0.2060096   |  0.5022922   |  0.219422230 |  0.21515315  |  69.99       | 0            | \n",
       "| -0.4259659   |  0.96052304  | 1.1411093    | -0.1682521   |  0.42098688  | -0.02972755  |  0.47620095  |  0.26031433  | -0.5686714   | -0.37140720  | ...          | -0.208253515 | -0.559824796 | -0.02639767  | -0.37142658  | -0.2327938   |  0.1059148   |  0.253844225 |  0.08108026  |   3.67       | 0            | \n",
       "\n",
       "\n"
      ],
      "text/plain": [
       "  V1         V2          V3        V4         V5          V6         \n",
       "1 -1.3598071 -0.07278117 2.5363467  1.3781552 -0.33832077  0.46238778\n",
       "2  1.1918571  0.26615071 0.1664801  0.4481541  0.06001765 -0.08236081\n",
       "3 -1.3583541 -1.34016307 1.7732093  0.3797796 -0.50319813  1.80049938\n",
       "4 -0.9662717 -0.18522601 1.7929933 -0.8632913 -0.01030888  1.24720317\n",
       "5 -1.1582331  0.87773675 1.5487178  0.4030339 -0.40719338  0.09592146\n",
       "6 -0.4259659  0.96052304 1.1411093 -0.1682521  0.42098688 -0.02972755\n",
       "  V7          V8          V9         V10         ... V21          V22         \n",
       "1  0.23959855  0.09869790  0.3637870  0.09079417 ... -0.018306778  0.277837576\n",
       "2 -0.07880298  0.08510165 -0.2554251 -0.16697441 ... -0.225775248 -0.638671953\n",
       "3  0.79146096  0.24767579 -1.5146543  0.20764287 ...  0.247998153  0.771679402\n",
       "4  0.23760894  0.37743587 -1.3870241 -0.05495192 ... -0.108300452  0.005273597\n",
       "5  0.59294075 -0.27053268  0.8177393  0.75307443 ... -0.009430697  0.798278495\n",
       "6  0.47620095  0.26031433 -0.5686714 -0.37140720 ... -0.208253515 -0.559824796\n",
       "  V23         V24         V25        V26        V27          V28         Amount\n",
       "1 -0.11047391  0.06692807  0.1285394 -0.1891148  0.133558377 -0.02105305 149.62\n",
       "2  0.10128802 -0.33984648  0.1671704  0.1258945 -0.008983099  0.01472417   2.69\n",
       "3  0.90941226 -0.68928096 -0.3276418 -0.1390966 -0.055352794 -0.05975184 378.66\n",
       "4 -0.19032052 -1.17557533  0.6473760 -0.2219288  0.062722849  0.06145763 123.50\n",
       "5 -0.13745808  0.14126698 -0.2060096  0.5022922  0.219422230  0.21515315  69.99\n",
       "6 -0.02639767 -0.37142658 -0.2327938  0.1059148  0.253844225  0.08108026   3.67\n",
       "  Class\n",
       "1 0    \n",
       "2 0    \n",
       "3 0    \n",
       "4 0    \n",
       "5 0    \n",
       "6 0    "
      ]
     },
     "metadata": {},
     "output_type": "display_data"
    }
   ],
   "source": [
    "#Taking variable from v1 to v28,Amount & Class (except Time variable)\n",
    "credit_crd_nw = credit_crd[,2:31]\n",
    "head(credit_crd_nw)"
   ]
  },
  {
   "cell_type": "code",
   "execution_count": 3,
   "metadata": {},
   "outputs": [
    {
     "data": {
      "text/html": [
       "<dl class=dl-horizontal>\n",
       "\t<dt>0</dt>\n",
       "\t\t<dd>284315</dd>\n",
       "\t<dt>1</dt>\n",
       "\t\t<dd>492</dd>\n",
       "</dl>\n"
      ],
      "text/latex": [
       "\\begin{description*}\n",
       "\\item[0] 284315\n",
       "\\item[1] 492\n",
       "\\end{description*}\n"
      ],
      "text/markdown": [
       "0\n",
       ":   2843151\n",
       ":   492\n",
       "\n"
      ],
      "text/plain": [
       "     0      1 \n",
       "284315    492 "
      ]
     },
     "metadata": {},
     "output_type": "display_data"
    },
    {
     "data": {
      "text/plain": [
       "\n",
       "          0           1 \n",
       "0.998272514 0.001727486 "
      ]
     },
     "metadata": {},
     "output_type": "display_data"
    }
   ],
   "source": [
    "#clasifying data by class\n",
    "summary(credit_crd_nw$Class)\n",
    "#using prop.table for % wise calculation of data based on class variable\n",
    "prop.table(table(credit_crd_nw$Class))\n",
    " #It's clear that 99.8% proper transaction, 0.2% fraud. Data have huge imbalance with respect to Class variable"
   ]
  },
  {
   "cell_type": "code",
   "execution_count": 4,
   "metadata": {},
   "outputs": [
    {
     "name": "stderr",
     "output_type": "stream",
     "text": [
      "Loaded ROSE 0.0-3\n",
      "\n"
     ]
    },
    {
     "data": {
      "text/html": [
       "<dl class=dl-horizontal>\n",
       "\t<dt>0</dt>\n",
       "\t\t<dd>284315</dd>\n",
       "\t<dt>1</dt>\n",
       "\t\t<dd>284315</dd>\n",
       "</dl>\n"
      ],
      "text/latex": [
       "\\begin{description*}\n",
       "\\item[0] 284315\n",
       "\\item[1] 284315\n",
       "\\end{description*}\n"
      ],
      "text/markdown": [
       "0\n",
       ":   2843151\n",
       ":   284315\n",
       "\n"
      ],
      "text/plain": [
       "     0      1 \n",
       "284315 284315 "
      ]
     },
     "metadata": {},
     "output_type": "display_data"
    }
   ],
   "source": [
    "#install.packages(\"ROSE\")\n",
    "#ROSE LIBRARY BALACED THE DATA FOR ANALYSIS BY TECNIQUE Oversampling,Undersampling,Synthetic Data Generation\n",
    "#for more refrence read in link \"https://www.analyticsvidhya.com/blog/2016/03/practical-guide-deal-imbalanced-classification-problems/\"\n",
    "library(ROSE)\n",
    "credit_crd_nw = ovun.sample(Class~., data = credit_crd_nw, method = 'over', \n",
    "                      N = 2*284315, seed = 1234)$data\n",
    "summary(credit_crd_nw$Class)"
   ]
  },
  {
   "cell_type": "code",
   "execution_count": 8,
   "metadata": {},
   "outputs": [
    {
     "data": {
      "text/html": [
       "<ol class=list-inline>\n",
       "\t<li>0.00582379308680496</li>\n",
       "\t<li>0.000104705276056044</li>\n",
       "\t<li>0.0147389218704021</li>\n",
       "\t<li>0.00480710096391132</li>\n",
       "\t<li>0.00272428337217938</li>\n",
       "\t<li>0.000142850692611778</li>\n",
       "</ol>\n"
      ],
      "text/latex": [
       "\\begin{enumerate*}\n",
       "\\item 0.00582379308680496\n",
       "\\item 0.000104705276056044\n",
       "\\item 0.0147389218704021\n",
       "\\item 0.00480710096391132\n",
       "\\item 0.00272428337217938\n",
       "\\item 0.000142850692611778\n",
       "\\end{enumerate*}\n"
      ],
      "text/markdown": [
       "1. 0.00582379308680496\n",
       "2. 0.000104705276056044\n",
       "3. 0.0147389218704021\n",
       "4. 0.00480710096391132\n",
       "5. 0.00272428337217938\n",
       "6. 0.000142850692611778\n",
       "\n",
       "\n"
      ],
      "text/plain": [
       "[1] 0.0058237931 0.0001047053 0.0147389219 0.0048071010 0.0027242834\n",
       "[6] 0.0001428507"
      ]
     },
     "metadata": {},
     "output_type": "display_data"
    }
   ],
   "source": [
    "#SCALING Amount VARIABLE SIMILAR TO OTHER VARIABLE RANGE FROM 0-1\n",
    "#WE CAN SCALE ALL DATA BUT IT TAKE MORE TIME,AS OUR VARIABLE V1-V28 RANGE FROM (0-1)\n",
    "library(scales)\n",
    "credit_crd_nw[,29] = rescale(credit_crd_nw[,29], to = c(0,1))\n",
    "head(credit_crd_nw$Amount)"
   ]
  },
  {
   "cell_type": "code",
   "execution_count": 9,
   "metadata": {},
   "outputs": [
    {
     "data": {
      "text/html": [
       "<dl class=dl-horizontal>\n",
       "\t<dt>0</dt>\n",
       "\t\t<dd>227452</dd>\n",
       "\t<dt>1</dt>\n",
       "\t\t<dd>227452</dd>\n",
       "</dl>\n"
      ],
      "text/latex": [
       "\\begin{description*}\n",
       "\\item[0] 227452\n",
       "\\item[1] 227452\n",
       "\\end{description*}\n"
      ],
      "text/markdown": [
       "0\n",
       ":   2274521\n",
       ":   227452\n",
       "\n"
      ],
      "text/plain": [
       "     0      1 \n",
       "227452 227452 "
      ]
     },
     "metadata": {},
     "output_type": "display_data"
    },
    {
     "data": {
      "text/html": [
       "<dl class=dl-horizontal>\n",
       "\t<dt>0</dt>\n",
       "\t\t<dd>56863</dd>\n",
       "\t<dt>1</dt>\n",
       "\t\t<dd>56863</dd>\n",
       "</dl>\n"
      ],
      "text/latex": [
       "\\begin{description*}\n",
       "\\item[0] 56863\n",
       "\\item[1] 56863\n",
       "\\end{description*}\n"
      ],
      "text/markdown": [
       "0\n",
       ":   568631\n",
       ":   56863\n",
       "\n"
      ],
      "text/plain": [
       "    0     1 \n",
       "56863 56863 "
      ]
     },
     "metadata": {},
     "output_type": "display_data"
    }
   ],
   "source": [
    "# install.packages('caTools')\n",
    "# Splitting the dataset into the Training set and Test set\n",
    "#SPLITING DATA AS 80:20 RATIO FOR TRANING & TEST\n",
    "library(caTools)\n",
    "set.seed(123)\n",
    "split = sample.split(credit_crd_nw$Class, SplitRatio = 0.8)\n",
    "cred_crd_nw_traing = subset(credit_crd_nw, split == TRUE)\n",
    "cred_crd_nw_test = subset(credit_crd_nw, split == FALSE)\n",
    "summary(cred_crd_nw_traing$Class)\n",
    "summary(cred_crd_nw_test$Class)"
   ]
  },
  {
   "cell_type": "code",
   "execution_count": 10,
   "metadata": {},
   "outputs": [
    {
     "name": "stderr",
     "output_type": "stream",
     "text": [
      "Warning message:\n",
      "\"glm.fit: fitted probabilities numerically 0 or 1 occurred\""
     ]
    },
    {
     "data": {
      "text/plain": [
       "\n",
       "Call:\n",
       "glm(formula = Class ~ ., family = binomial(link = \"logit\"), data = cred_crd_nw_traing)\n",
       "\n",
       "Deviance Residuals: \n",
       "   Min      1Q  Median      3Q     Max  \n",
       "-8.490  -0.259   0.000   0.000   2.992  \n",
       "\n",
       "Coefficients:\n",
       "              Estimate Std. Error  z value Pr(>|z|)    \n",
       "(Intercept)  -4.193305   0.028870 -145.247  < 2e-16 ***\n",
       "V1            0.600956   0.015803   38.028  < 2e-16 ***\n",
       "V2            0.586482   0.022682   25.856  < 2e-16 ***\n",
       "V3            0.371494   0.011976   31.020  < 2e-16 ***\n",
       "V4            0.771107   0.007700  100.138  < 2e-16 ***\n",
       "V5            0.677603   0.018189   37.254  < 2e-16 ***\n",
       "V6           -0.544285   0.012509  -43.510  < 2e-16 ***\n",
       "V7           -0.564272   0.022143  -25.483  < 2e-16 ***\n",
       "V8           -0.394723   0.007980  -49.461  < 2e-16 ***\n",
       "V9           -0.286612   0.011185  -25.625  < 2e-16 ***\n",
       "V10          -0.687055   0.015005  -45.787  < 2e-16 ***\n",
       "V11           0.546622   0.010352   52.802  < 2e-16 ***\n",
       "V12          -1.057146   0.015201  -69.545  < 2e-16 ***\n",
       "V13          -0.351737   0.007570  -46.464  < 2e-16 ***\n",
       "V14          -1.336872   0.017312  -77.224  < 2e-16 ***\n",
       "V15          -0.074499   0.008206   -9.078  < 2e-16 ***\n",
       "V16          -0.677835   0.015970  -42.445  < 2e-16 ***\n",
       "V17          -0.753184   0.021602  -34.866  < 2e-16 ***\n",
       "V18          -0.309819   0.013374  -23.166  < 2e-16 ***\n",
       "V19           0.287157   0.011456   25.065  < 2e-16 ***\n",
       "V20          -0.801342   0.023977  -33.422  < 2e-16 ***\n",
       "V21           0.009584   0.010020    0.956 0.338822    \n",
       "V22           0.679574   0.013456   50.504  < 2e-16 ***\n",
       "V23           0.416624   0.021145   19.703  < 2e-16 ***\n",
       "V24          -0.073774   0.015319   -4.816 1.47e-06 ***\n",
       "V25           0.168102   0.015995   10.510  < 2e-16 ***\n",
       "V26          -0.396042   0.018561  -21.338  < 2e-16 ***\n",
       "V27           0.085908   0.025230    3.405 0.000662 ***\n",
       "V28           0.735406   0.033566   21.910  < 2e-16 ***\n",
       "Amount      211.897759   6.008010   35.269  < 2e-16 ***\n",
       "---\n",
       "Signif. codes:  0 '***' 0.001 '**' 0.01 '*' 0.05 '.' 0.1 ' ' 1\n",
       "\n",
       "(Dispersion parameter for binomial family taken to be 1)\n",
       "\n",
       "    Null deviance: 630631  on 454903  degrees of freedom\n",
       "Residual deviance: 122732  on 454874  degrees of freedom\n",
       "AIC: 122792\n",
       "\n",
       "Number of Fisher Scoring iterations: 14\n"
      ]
     },
     "metadata": {},
     "output_type": "display_data"
    }
   ],
   "source": [
    "# Logistic classifier for Over sampling dataset\n",
    "over_classifier = glm(formula = Class ~ .,data = cred_crd_nw_traing,family=binomial(link=\"logit\"))\n",
    "summary(over_classifier)"
   ]
  },
  {
   "cell_type": "code",
   "execution_count": 11,
   "metadata": {},
   "outputs": [
    {
     "data": {
      "text/html": [
       "<dl class=dl-horizontal>\n",
       "\t<dt>4</dt>\n",
       "\t\t<dd>0.0227197533008392</dd>\n",
       "\t<dt>5</dt>\n",
       "\t\t<dd>0.0320075008692692</dd>\n",
       "\t<dt>8</dt>\n",
       "\t\t<dd>0.0501103922603491</dd>\n",
       "\t<dt>11</dt>\n",
       "\t\t<dd>0.0223013378590154</dd>\n",
       "\t<dt>16</dt>\n",
       "\t\t<dd>0.0170452048701838</dd>\n",
       "\t<dt>20</dt>\n",
       "\t\t<dd>0.0182192607180376</dd>\n",
       "</dl>\n"
      ],
      "text/latex": [
       "\\begin{description*}\n",
       "\\item[4] 0.0227197533008392\n",
       "\\item[5] 0.0320075008692692\n",
       "\\item[8] 0.0501103922603491\n",
       "\\item[11] 0.0223013378590154\n",
       "\\item[16] 0.0170452048701838\n",
       "\\item[20] 0.0182192607180376\n",
       "\\end{description*}\n"
      ],
      "text/markdown": [
       "4\n",
       ":   0.02271975330083925\n",
       ":   0.03200750086926928\n",
       ":   0.050110392260349111\n",
       ":   0.022301337859015416\n",
       ":   0.017045204870183820\n",
       ":   0.0182192607180376\n",
       "\n"
      ],
      "text/plain": [
       "         4          5          8         11         16         20 \n",
       "0.02271975 0.03200750 0.05011039 0.02230134 0.01704520 0.01821926 "
      ]
     },
     "metadata": {},
     "output_type": "display_data"
    }
   ],
   "source": [
    "# Predicting the test set using Over sampling classifier\n",
    "#y_pred_over = predict(over_classifier, newdata = cred_crd_nw_test[-31])\n",
    "# Predicting the Test set results\n",
    "y_pred_over <- predict(over_classifier, cred_crd_nw_test, type=\"response\")  # predicted scores\n",
    "head(y_pred_over)"
   ]
  },
  {
   "cell_type": "code",
   "execution_count": 15,
   "metadata": {},
   "outputs": [
    {
     "data": {
      "text/html": [
       "<table>\n",
       "<thead><tr><th></th><th scope=col>0</th><th scope=col>1</th></tr></thead>\n",
       "<tbody>\n",
       "\t<tr><th scope=row>0</th><td>55546</td><td> 4355</td></tr>\n",
       "\t<tr><th scope=row>1</th><td> 1317</td><td>52508</td></tr>\n",
       "</tbody>\n",
       "</table>\n"
      ],
      "text/latex": [
       "\\begin{tabular}{r|ll}\n",
       "  & 0 & 1\\\\\n",
       "\\hline\n",
       "\t0 & 55546 &  4355\\\\\n",
       "\t1 &  1317 & 52508\\\\\n",
       "\\end{tabular}\n"
      ],
      "text/markdown": [
       "\n",
       "| <!--/--> | 0 | 1 | \n",
       "|---|---|\n",
       "| 0 | 55546 |  4355 | \n",
       "| 1 |  1317 | 52508 | \n",
       "\n",
       "\n"
      ],
      "text/plain": [
       "  0     1    \n",
       "0 55546  4355\n",
       "1  1317 52508"
      ]
     },
     "metadata": {},
     "output_type": "display_data"
    },
    {
     "data": {
      "text/html": [
       "0.923412412289186"
      ],
      "text/latex": [
       "0.923412412289186"
      ],
      "text/markdown": [
       "0.923412412289186"
      ],
      "text/plain": [
       "[1] 0.9234124"
      ]
     },
     "metadata": {},
     "output_type": "display_data"
    },
    {
     "data": {
      "text/html": [
       "0.976839069342103"
      ],
      "text/latex": [
       "0.976839069342103"
      ],
      "text/markdown": [
       "0.976839069342103"
      ],
      "text/plain": [
       "[1] 0.9768391"
      ]
     },
     "metadata": {},
     "output_type": "display_data"
    }
   ],
   "source": [
    "# To check the model accuracy using confusionMatrix\n",
    "library(caret)\n",
    "confusionMatrix(cred_crd_nw_test$Class, y_pred_over>0.5)\n",
    "sensitivity(cred_crd_nw_test$Class, y_pred_over, threshold = 0.5)\n",
    "specificity(cred_crd_nw_test$Class, y_pred_over, threshold = 0.5)"
   ]
  },
  {
   "cell_type": "code",
   "execution_count": 14,
   "metadata": {},
   "outputs": [
    {
     "name": "stderr",
     "output_type": "stream",
     "text": [
      "Type 'citation(\"pROC\")' for a citation.\n",
      "\n",
      "Attaching package: 'pROC'\n",
      "\n",
      "The following objects are masked from 'package:stats':\n",
      "\n",
      "    cov, smooth, var\n",
      "\n",
      "\n",
      "Attaching package: 'InformationValue'\n",
      "\n",
      "The following objects are masked from 'package:caret':\n",
      "\n",
      "    confusionMatrix, precision, sensitivity, specificity\n",
      "\n"
     ]
    },
    {
     "data": {
      "image/png": "[encoded data removed]",
      "text/plain": [
       "plot without title"
      ]
     },
     "metadata": {},
     "output_type": "display_data"
    }
   ],
   "source": [
    "\n",
    "library(pROC)\n",
    "library(InformationValue)\n",
    "plotROC(cred_crd_nw_test$Class,y_pred_over)"
   ]
  }
 ],
 "metadata": {
  "kernelspec": {
   "display_name": "R",
   "language": "R",
   "name": "ir"
  },
  "language_info": {
   "codemirror_mode": "r",
   "file_extension": ".r",
   "mimetype": "text/x-r-source",
   "name": "R",
   "pygments_lexer": "r",
   "version": "3.5.2"
  }
 },
 "nbformat": 4,
 "nbformat_minor": 2
}
