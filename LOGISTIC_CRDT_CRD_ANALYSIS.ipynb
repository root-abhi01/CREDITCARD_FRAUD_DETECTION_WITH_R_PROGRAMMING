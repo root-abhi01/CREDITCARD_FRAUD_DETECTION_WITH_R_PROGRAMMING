{
 "cells": [
  {
   "cell_type": "code",
   "execution_count": 2,
   "metadata": {},
   "outputs": [
    {
     "name": "stdout",
     "output_type": "stream",
     "text": [
      "'data.frame':\t284807 obs. of  31 variables:\n",
      " $ Time  : num  0 0 1 1 2 2 4 7 7 9 ...\n",
      " $ V1    : num  -1.36 1.192 -1.358 -0.966 -1.158 ...\n",
      " $ V2    : num  -0.0728 0.2662 -1.3402 -0.1852 0.8777 ...\n",
      " $ V3    : num  2.536 0.166 1.773 1.793 1.549 ...\n",
      " $ V4    : num  1.378 0.448 0.38 -0.863 0.403 ...\n",
      " $ V5    : num  -0.3383 0.06 -0.5032 -0.0103 -0.4072 ...\n",
      " $ V6    : num  0.4624 -0.0824 1.8005 1.2472 0.0959 ...\n",
      " $ V7    : num  0.2396 -0.0788 0.7915 0.2376 0.5929 ...\n",
      " $ V8    : num  0.0987 0.0851 0.2477 0.3774 -0.2705 ...\n",
      " $ V9    : num  0.364 -0.255 -1.515 -1.387 0.818 ...\n",
      " $ V10   : num  0.0908 -0.167 0.2076 -0.055 0.7531 ...\n",
      " $ V11   : num  -0.552 1.613 0.625 -0.226 -0.823 ...\n",
      " $ V12   : num  -0.6178 1.0652 0.0661 0.1782 0.5382 ...\n",
      " $ V13   : num  -0.991 0.489 0.717 0.508 1.346 ...\n",
      " $ V14   : num  -0.311 -0.144 -0.166 -0.288 -1.12 ...\n",
      " $ V15   : num  1.468 0.636 2.346 -0.631 0.175 ...\n",
      " $ V16   : num  -0.47 0.464 -2.89 -1.06 -0.451 ...\n",
      " $ V17   : num  0.208 -0.115 1.11 -0.684 -0.237 ...\n",
      " $ V18   : num  0.0258 -0.1834 -0.1214 1.9658 -0.0382 ...\n",
      " $ V19   : num  0.404 -0.146 -2.262 -1.233 0.803 ...\n",
      " $ V20   : num  0.2514 -0.0691 0.525 -0.208 0.4085 ...\n",
      " $ V21   : num  -0.01831 -0.22578 0.248 -0.1083 -0.00943 ...\n",
      " $ V22   : num  0.27784 -0.63867 0.77168 0.00527 0.79828 ...\n",
      " $ V23   : num  -0.11 0.101 0.909 -0.19 -0.137 ...\n",
      " $ V24   : num  0.0669 -0.3398 -0.6893 -1.1756 0.1413 ...\n",
      " $ V25   : num  0.129 0.167 -0.328 0.647 -0.206 ...\n",
      " $ V26   : num  -0.189 0.126 -0.139 -0.222 0.502 ...\n",
      " $ V27   : num  0.13356 -0.00898 -0.05535 0.06272 0.21942 ...\n",
      " $ V28   : num  -0.0211 0.0147 -0.0598 0.0615 0.2152 ...\n",
      " $ Amount: num  149.62 2.69 378.66 123.5 69.99 ...\n",
      " $ Class : int  0 0 0 0 0 0 0 0 0 0 ...\n",
      " Factor w/ 2 levels \"0\",\"1\": 1 1 1 1 1 1 1 1 1 1 ...\n"
     ]
    }
   ],
   "source": [
    "crdt_crd<-read.csv(\"D:\\\\R_TXT_MINE_DATA\\\\creditcard.csv\",header = TRUE,\n",
    "                   stringsAsFactors = FALSE,\n",
    "                   strip.white = TRUE ,\n",
    "                   sep = ',')\n",
    "\n",
    "#checking overall dataset and coverting 'class' as factor variables \n",
    "str(crdt_crd)\n",
    "crdt_crd$Class = as.factor(crdt_crd$Class)\n",
    "str(crdt_crd$Class)"
   ]
  },
  {
   "cell_type": "code",
   "execution_count": 12,
   "metadata": {},
   "outputs": [
    {
     "data": {
      "text/html": [
       "<table>\n",
       "<thead><tr><th scope=col>V27</th><th scope=col>V21</th><th scope=col>V22</th><th scope=col>V20</th><th scope=col>V28</th><th scope=col>V10</th><th scope=col>V12</th><th scope=col>V17</th><th scope=col>V16</th><th scope=col>V3</th><th scope=col>V7</th><th scope=col>V14</th><th scope=col>V4</th><th scope=col>V18</th><th scope=col>V9</th><th scope=col>V11</th><th scope=col>V26</th><th scope=col>Class</th></tr></thead>\n",
       "<tbody>\n",
       "\t<tr><td> 0.133558377</td><td>-0.018306778</td><td> 0.277837576</td><td> 0.25141210 </td><td>-0.02105305 </td><td> 0.09079417 </td><td>-0.61780086 </td><td> 0.20797124 </td><td>-0.4704005  </td><td>2.5363467   </td><td> 0.23959855 </td><td>-0.3111694  </td><td> 1.3781552  </td><td> 0.02579058 </td><td> 0.3637870  </td><td>-0.5515995  </td><td>-0.1891148  </td><td>0           </td></tr>\n",
       "\t<tr><td>-0.008983099</td><td>-0.225775248</td><td>-0.638671953</td><td>-0.06908314 </td><td> 0.01472417 </td><td>-0.16697441 </td><td> 1.06523531 </td><td>-0.11480466 </td><td> 0.4639170  </td><td>0.1664801   </td><td>-0.07880298 </td><td>-0.1437723  </td><td> 0.4481541  </td><td>-0.18336127 </td><td>-0.2554251  </td><td> 1.6127267  </td><td> 0.1258945  </td><td>0           </td></tr>\n",
       "\t<tr><td>-0.055352794</td><td> 0.247998153</td><td> 0.771679402</td><td> 0.52497973 </td><td>-0.05975184 </td><td> 0.20764287 </td><td> 0.06608369 </td><td> 1.10996938 </td><td>-2.8900832  </td><td>1.7732093   </td><td> 0.79146096 </td><td>-0.1659459  </td><td> 0.3797796  </td><td>-0.12135931 </td><td>-1.5146543  </td><td> 0.6245015  </td><td>-0.1390966  </td><td>0           </td></tr>\n",
       "\t<tr><td> 0.062722849</td><td>-0.108300452</td><td> 0.005273597</td><td>-0.20803778 </td><td> 0.06145763 </td><td>-0.05495192 </td><td> 0.17822823 </td><td>-0.68409279 </td><td>-1.0596472  </td><td>1.7929933   </td><td> 0.23760894 </td><td>-0.2879237  </td><td>-0.8632913  </td><td> 1.96577500 </td><td>-1.3870241  </td><td>-0.2264873  </td><td>-0.2219288  </td><td>0           </td></tr>\n",
       "\t<tr><td> 0.219422230</td><td>-0.009430697</td><td> 0.798278495</td><td> 0.40854236 </td><td> 0.21515315 </td><td> 0.75307443 </td><td> 0.53819555 </td><td>-0.23703324 </td><td>-0.4514492  </td><td>1.5487178   </td><td> 0.59294075 </td><td>-1.1196698  </td><td> 0.4030339  </td><td>-0.03819479 </td><td> 0.8177393  </td><td>-0.8228429  </td><td> 0.5022922  </td><td>0           </td></tr>\n",
       "\t<tr><td> 0.253844225</td><td>-0.208253515</td><td>-0.559824796</td><td> 0.08496767 </td><td> 0.08108026 </td><td>-0.37140720 </td><td> 0.35989384 </td><td>-0.05813282 </td><td> 0.4017259  </td><td>1.1411093   </td><td> 0.47620095 </td><td>-0.1371337  </td><td>-0.1682521  </td><td> 0.06865315 </td><td>-0.5686714  </td><td> 1.3412620  </td><td> 0.1059148  </td><td>0           </td></tr>\n",
       "</tbody>\n",
       "</table>\n"
      ],
      "text/latex": [
       "\\begin{tabular}{r|llllllllllllllllll}\n",
       " V27 & V21 & V22 & V20 & V28 & V10 & V12 & V17 & V16 & V3 & V7 & V14 & V4 & V18 & V9 & V11 & V26 & Class\\\\\n",
       "\\hline\n",
       "\t  0.133558377 & -0.018306778 &  0.277837576 &  0.25141210  & -0.02105305  &  0.09079417  & -0.61780086  &  0.20797124  & -0.4704005   & 2.5363467    &  0.23959855  & -0.3111694   &  1.3781552   &  0.02579058  &  0.3637870   & -0.5515995   & -0.1891148   & 0           \\\\\n",
       "\t -0.008983099 & -0.225775248 & -0.638671953 & -0.06908314  &  0.01472417  & -0.16697441  &  1.06523531  & -0.11480466  &  0.4639170   & 0.1664801    & -0.07880298  & -0.1437723   &  0.4481541   & -0.18336127  & -0.2554251   &  1.6127267   &  0.1258945   & 0           \\\\\n",
       "\t -0.055352794 &  0.247998153 &  0.771679402 &  0.52497973  & -0.05975184  &  0.20764287  &  0.06608369  &  1.10996938  & -2.8900832   & 1.7732093    &  0.79146096  & -0.1659459   &  0.3797796   & -0.12135931  & -1.5146543   &  0.6245015   & -0.1390966   & 0           \\\\\n",
       "\t  0.062722849 & -0.108300452 &  0.005273597 & -0.20803778  &  0.06145763  & -0.05495192  &  0.17822823  & -0.68409279  & -1.0596472   & 1.7929933    &  0.23760894  & -0.2879237   & -0.8632913   &  1.96577500  & -1.3870241   & -0.2264873   & -0.2219288   & 0           \\\\\n",
       "\t  0.219422230 & -0.009430697 &  0.798278495 &  0.40854236  &  0.21515315  &  0.75307443  &  0.53819555  & -0.23703324  & -0.4514492   & 1.5487178    &  0.59294075  & -1.1196698   &  0.4030339   & -0.03819479  &  0.8177393   & -0.8228429   &  0.5022922   & 0           \\\\\n",
       "\t  0.253844225 & -0.208253515 & -0.559824796 &  0.08496767  &  0.08108026  & -0.37140720  &  0.35989384  & -0.05813282  &  0.4017259   & 1.1411093    &  0.47620095  & -0.1371337   & -0.1682521   &  0.06865315  & -0.5686714   &  1.3412620   &  0.1059148   & 0           \\\\\n",
       "\\end{tabular}\n"
      ],
      "text/markdown": [
       "\n",
       "V27 | V21 | V22 | V20 | V28 | V10 | V12 | V17 | V16 | V3 | V7 | V14 | V4 | V18 | V9 | V11 | V26 | Class | \n",
       "|---|---|---|---|---|---|\n",
       "|  0.133558377 | -0.018306778 |  0.277837576 |  0.25141210  | -0.02105305  |  0.09079417  | -0.61780086  |  0.20797124  | -0.4704005   | 2.5363467    |  0.23959855  | -0.3111694   |  1.3781552   |  0.02579058  |  0.3637870   | -0.5515995   | -0.1891148   | 0            | \n",
       "| -0.008983099 | -0.225775248 | -0.638671953 | -0.06908314  |  0.01472417  | -0.16697441  |  1.06523531  | -0.11480466  |  0.4639170   | 0.1664801    | -0.07880298  | -0.1437723   |  0.4481541   | -0.18336127  | -0.2554251   |  1.6127267   |  0.1258945   | 0            | \n",
       "| -0.055352794 |  0.247998153 |  0.771679402 |  0.52497973  | -0.05975184  |  0.20764287  |  0.06608369  |  1.10996938  | -2.8900832   | 1.7732093    |  0.79146096  | -0.1659459   |  0.3797796   | -0.12135931  | -1.5146543   |  0.6245015   | -0.1390966   | 0            | \n",
       "|  0.062722849 | -0.108300452 |  0.005273597 | -0.20803778  |  0.06145763  | -0.05495192  |  0.17822823  | -0.68409279  | -1.0596472   | 1.7929933    |  0.23760894  | -0.2879237   | -0.8632913   |  1.96577500  | -1.3870241   | -0.2264873   | -0.2219288   | 0            | \n",
       "|  0.219422230 | -0.009430697 |  0.798278495 |  0.40854236  |  0.21515315  |  0.75307443  |  0.53819555  | -0.23703324  | -0.4514492   | 1.5487178    |  0.59294075  | -1.1196698   |  0.4030339   | -0.03819479  |  0.8177393   | -0.8228429   |  0.5022922   | 0            | \n",
       "|  0.253844225 | -0.208253515 | -0.559824796 |  0.08496767  |  0.08108026  | -0.37140720  |  0.35989384  | -0.05813282  |  0.4017259   | 1.1411093    |  0.47620095  | -0.1371337   | -0.1682521   |  0.06865315  | -0.5686714   |  1.3412620   |  0.1059148   | 0            | \n",
       "\n",
       "\n"
      ],
      "text/plain": [
       "  V27          V21          V22          V20         V28         V10        \n",
       "1  0.133558377 -0.018306778  0.277837576  0.25141210 -0.02105305  0.09079417\n",
       "2 -0.008983099 -0.225775248 -0.638671953 -0.06908314  0.01472417 -0.16697441\n",
       "3 -0.055352794  0.247998153  0.771679402  0.52497973 -0.05975184  0.20764287\n",
       "4  0.062722849 -0.108300452  0.005273597 -0.20803778  0.06145763 -0.05495192\n",
       "5  0.219422230 -0.009430697  0.798278495  0.40854236  0.21515315  0.75307443\n",
       "6  0.253844225 -0.208253515 -0.559824796  0.08496767  0.08108026 -0.37140720\n",
       "  V12         V17         V16        V3        V7          V14       \n",
       "1 -0.61780086  0.20797124 -0.4704005 2.5363467  0.23959855 -0.3111694\n",
       "2  1.06523531 -0.11480466  0.4639170 0.1664801 -0.07880298 -0.1437723\n",
       "3  0.06608369  1.10996938 -2.8900832 1.7732093  0.79146096 -0.1659459\n",
       "4  0.17822823 -0.68409279 -1.0596472 1.7929933  0.23760894 -0.2879237\n",
       "5  0.53819555 -0.23703324 -0.4514492 1.5487178  0.59294075 -1.1196698\n",
       "6  0.35989384 -0.05813282  0.4017259 1.1411093  0.47620095 -0.1371337\n",
       "  V4         V18         V9         V11        V26        Class\n",
       "1  1.3781552  0.02579058  0.3637870 -0.5515995 -0.1891148 0    \n",
       "2  0.4481541 -0.18336127 -0.2554251  1.6127267  0.1258945 0    \n",
       "3  0.3797796 -0.12135931 -1.5146543  0.6245015 -0.1390966 0    \n",
       "4 -0.8632913  1.96577500 -1.3870241 -0.2264873 -0.2219288 0    \n",
       "5  0.4030339 -0.03819479  0.8177393 -0.8228429  0.5022922 0    \n",
       "6 -0.1682521  0.06865315 -0.5686714  1.3412620  0.1059148 0    "
      ]
     },
     "metadata": {},
     "output_type": "display_data"
    },
    {
     "name": "stdout",
     "output_type": "stream",
     "text": [
      "'data.frame':\t284807 obs. of  18 variables:\n",
      " $ V27  : num  0.13356 -0.00898 -0.05535 0.06272 0.21942 ...\n",
      " $ V21  : num  -0.01831 -0.22578 0.248 -0.1083 -0.00943 ...\n",
      " $ V22  : num  0.27784 -0.63867 0.77168 0.00527 0.79828 ...\n",
      " $ V20  : num  0.2514 -0.0691 0.525 -0.208 0.4085 ...\n",
      " $ V28  : num  -0.0211 0.0147 -0.0598 0.0615 0.2152 ...\n",
      " $ V10  : num  0.0908 -0.167 0.2076 -0.055 0.7531 ...\n",
      " $ V12  : num  -0.6178 1.0652 0.0661 0.1782 0.5382 ...\n",
      " $ V17  : num  0.208 -0.115 1.11 -0.684 -0.237 ...\n",
      " $ V16  : num  -0.47 0.464 -2.89 -1.06 -0.451 ...\n",
      " $ V3   : num  2.536 0.166 1.773 1.793 1.549 ...\n",
      " $ V7   : num  0.2396 -0.0788 0.7915 0.2376 0.5929 ...\n",
      " $ V14  : num  -0.311 -0.144 -0.166 -0.288 -1.12 ...\n",
      " $ V4   : num  1.378 0.448 0.38 -0.863 0.403 ...\n",
      " $ V18  : num  0.0258 -0.1834 -0.1214 1.9658 -0.0382 ...\n",
      " $ V9   : num  0.364 -0.255 -1.515 -1.387 0.818 ...\n",
      " $ V11  : num  -0.552 1.613 0.625 -0.226 -0.823 ...\n",
      " $ V26  : num  -0.189 0.126 -0.139 -0.222 0.502 ...\n",
      " $ Class: Factor w/ 2 levels \"0\",\"1\": 1 1 1 1 1 1 1 1 1 1 ...\n"
     ]
    }
   ],
   "source": [
    "crdt_crd_nw<-crdt_crd[,c(\"V27\",\"V21\",\"V22\",\"V20\",\"V28\",\"V10\",\"V12\",\"V17\",\"V16\",\"V3\",\"V7\",\"V14\",\"V4\",\"V18\",\"V9\",\"V11\",\"V26\",\"Class\")]\n",
    "head(crdt_crd_nw)\n",
    "str(crdt_crd_nw)"
   ]
  },
  {
   "cell_type": "code",
   "execution_count": 13,
   "metadata": {},
   "outputs": [
    {
     "data": {
      "text/plain": [
       "\n",
       "     0      1 \n",
       "284315    492 "
      ]
     },
     "metadata": {},
     "output_type": "display_data"
    },
    {
     "data": {
      "text/html": [
       "<table>\n",
       "<thead><tr><th></th><th scope=col>V27</th><th scope=col>V21</th><th scope=col>V22</th><th scope=col>V20</th><th scope=col>V28</th><th scope=col>V10</th><th scope=col>V12</th><th scope=col>V17</th><th scope=col>V16</th><th scope=col>V3</th><th scope=col>V7</th><th scope=col>V14</th><th scope=col>V4</th><th scope=col>V18</th><th scope=col>V9</th><th scope=col>V11</th><th scope=col>V26</th><th scope=col>Class</th></tr></thead>\n",
       "<tbody>\n",
       "\t<tr><th scope=row>5</th><td> 0.21942223 </td><td>-0.009430697</td><td> 0.798278495</td><td> 0.40854236 </td><td>0.215153147 </td><td> 0.75307443 </td><td> 0.5381956  </td><td>-0.2370332  </td><td>-0.4514492  </td><td>1.5487178   </td><td> 0.5929407  </td><td>-1.1196698  </td><td> 0.4030339  </td><td>-0.03819479 </td><td> 0.8177393  </td><td>-0.8228429  </td><td> 0.50229222 </td><td>0           </td></tr>\n",
       "\t<tr><th scope=row>18</th><td> 0.07969240 </td><td>-0.194795824</td><td>-0.672637997</td><td>-0.04702128 </td><td>0.131023789 </td><td>-0.73797982 </td><td> 0.2771921  </td><td>-0.9287093  </td><td> 1.1431737  </td><td>0.9245908   </td><td> 0.7076416  </td><td>-0.2918965  </td><td>-0.7272191  </td><td> 0.68046959 </td><td>-0.6652714  </td><td> 0.3240978  </td><td>-0.04902673 </td><td>0           </td></tr>\n",
       "\t<tr><th scope=row>21</th><td> 0.08655340 </td><td>-0.295582932</td><td>-0.571955007</td><td>-0.13833394 </td><td>0.063498649 </td><td> 0.56852074 </td><td> 1.2983287  </td><td> 0.5156635  </td><td>-2.0445575  </td><td>1.0292210   </td><td>-0.8785859  </td><td>-0.3726510  </td><td> 0.8341593  </td><td> 0.62584730 </td><td>-0.4461958  </td><td> 1.0191506  </td><td>-0.42223443 </td><td>0           </td></tr>\n",
       "\t<tr><th scope=row>28</th><td> 0.04233526 </td><td>-0.284375572</td><td>-0.323357411</td><td>-0.52295094 </td><td>0.028822300 </td><td> 0.86855855 </td><td>-0.1113158  </td><td>-0.2169352  </td><td>-1.3558707  </td><td>0.4345550   </td><td>-0.2649050  </td><td> 0.1719451  </td><td> 0.5760377  </td><td> 1.27176539 </td><td>-1.0714246  </td><td>-0.6415063  </td><td>-0.28015817 </td><td>0           </td></tr>\n",
       "\t<tr><th scope=row>32</th><td> 0.02905740 </td><td>-0.053233660</td><td>-0.004760151</td><td>-0.27383237 </td><td>0.004452631 </td><td> 0.08226226 </td><td> 0.6266990  </td><td> 0.1582562  </td><td>-0.5291082  </td><td>0.4937025   </td><td>-0.1187600  </td><td> 0.5207879  </td><td> 1.3357600  </td><td>-0.39875148 </td><td> 0.2056868  </td><td> 1.1335557  </td><td>-0.33771813 </td><td>0           </td></tr>\n",
       "\t<tr><th scope=row>35</th><td>-0.07830550 </td><td> 0.049525687</td><td> 0.206536543</td><td>-0.28326378 </td><td>0.025427378 </td><td>-0.48247447 </td><td> 0.8534474  </td><td>-0.3096334  </td><td>-0.2859125  </td><td>1.3510763   </td><td> 0.6930393  </td><td> 0.1022521  </td><td> 0.1475755  </td><td>-0.40390199 </td><td>-0.2856419  </td><td> 0.8717996  </td><td>-0.55347097 </td><td>0           </td></tr>\n",
       "</tbody>\n",
       "</table>\n"
      ],
      "text/latex": [
       "\\begin{tabular}{r|llllllllllllllllll}\n",
       "  & V27 & V21 & V22 & V20 & V28 & V10 & V12 & V17 & V16 & V3 & V7 & V14 & V4 & V18 & V9 & V11 & V26 & Class\\\\\n",
       "\\hline\n",
       "\t5 &  0.21942223  & -0.009430697 &  0.798278495 &  0.40854236  & 0.215153147  &  0.75307443  &  0.5381956   & -0.2370332   & -0.4514492   & 1.5487178    &  0.5929407   & -1.1196698   &  0.4030339   & -0.03819479  &  0.8177393   & -0.8228429   &  0.50229222  & 0           \\\\\n",
       "\t18 &  0.07969240  & -0.194795824 & -0.672637997 & -0.04702128  & 0.131023789  & -0.73797982  &  0.2771921   & -0.9287093   &  1.1431737   & 0.9245908    &  0.7076416   & -0.2918965   & -0.7272191   &  0.68046959  & -0.6652714   &  0.3240978   & -0.04902673  & 0           \\\\\n",
       "\t21 &  0.08655340  & -0.295582932 & -0.571955007 & -0.13833394  & 0.063498649  &  0.56852074  &  1.2983287   &  0.5156635   & -2.0445575   & 1.0292210    & -0.8785859   & -0.3726510   &  0.8341593   &  0.62584730  & -0.4461958   &  1.0191506   & -0.42223443  & 0           \\\\\n",
       "\t28 &  0.04233526  & -0.284375572 & -0.323357411 & -0.52295094  & 0.028822300  &  0.86855855  & -0.1113158   & -0.2169352   & -1.3558707   & 0.4345550    & -0.2649050   &  0.1719451   &  0.5760377   &  1.27176539  & -1.0714246   & -0.6415063   & -0.28015817  & 0           \\\\\n",
       "\t32 &  0.02905740  & -0.053233660 & -0.004760151 & -0.27383237  & 0.004452631  &  0.08226226  &  0.6266990   &  0.1582562   & -0.5291082   & 0.4937025    & -0.1187600   &  0.5207879   &  1.3357600   & -0.39875148  &  0.2056868   &  1.1335557   & -0.33771813  & 0           \\\\\n",
       "\t35 & -0.07830550  &  0.049525687 &  0.206536543 & -0.28326378  & 0.025427378  & -0.48247447  &  0.8534474   & -0.3096334   & -0.2859125   & 1.3510763    &  0.6930393   &  0.1022521   &  0.1475755   & -0.40390199  & -0.2856419   &  0.8717996   & -0.55347097  & 0           \\\\\n",
       "\\end{tabular}\n"
      ],
      "text/markdown": [
       "\n",
       "| <!--/--> | V27 | V21 | V22 | V20 | V28 | V10 | V12 | V17 | V16 | V3 | V7 | V14 | V4 | V18 | V9 | V11 | V26 | Class | \n",
       "|---|---|---|---|---|---|\n",
       "| 5 |  0.21942223  | -0.009430697 |  0.798278495 |  0.40854236  | 0.215153147  |  0.75307443  |  0.5381956   | -0.2370332   | -0.4514492   | 1.5487178    |  0.5929407   | -1.1196698   |  0.4030339   | -0.03819479  |  0.8177393   | -0.8228429   |  0.50229222  | 0            | \n",
       "| 18 |  0.07969240  | -0.194795824 | -0.672637997 | -0.04702128  | 0.131023789  | -0.73797982  |  0.2771921   | -0.9287093   |  1.1431737   | 0.9245908    |  0.7076416   | -0.2918965   | -0.7272191   |  0.68046959  | -0.6652714   |  0.3240978   | -0.04902673  | 0            | \n",
       "| 21 |  0.08655340  | -0.295582932 | -0.571955007 | -0.13833394  | 0.063498649  |  0.56852074  |  1.2983287   |  0.5156635   | -2.0445575   | 1.0292210    | -0.8785859   | -0.3726510   |  0.8341593   |  0.62584730  | -0.4461958   |  1.0191506   | -0.42223443  | 0            | \n",
       "| 28 |  0.04233526  | -0.284375572 | -0.323357411 | -0.52295094  | 0.028822300  |  0.86855855  | -0.1113158   | -0.2169352   | -1.3558707   | 0.4345550    | -0.2649050   |  0.1719451   |  0.5760377   |  1.27176539  | -1.0714246   | -0.6415063   | -0.28015817  | 0            | \n",
       "| 32 |  0.02905740  | -0.053233660 | -0.004760151 | -0.27383237  | 0.004452631  |  0.08226226  |  0.6266990   |  0.1582562   | -0.5291082   | 0.4937025    | -0.1187600   |  0.5207879   |  1.3357600   | -0.39875148  |  0.2056868   |  1.1335557   | -0.33771813  | 0            | \n",
       "| 35 | -0.07830550  |  0.049525687 |  0.206536543 | -0.28326378  | 0.025427378  | -0.48247447  |  0.8534474   | -0.3096334   | -0.2859125   | 1.3510763    |  0.6930393   |  0.1022521   |  0.1475755   | -0.40390199  | -0.2856419   |  0.8717996   | -0.55347097  | 0            | \n",
       "\n",
       "\n"
      ],
      "text/plain": [
       "   V27         V21          V22          V20         V28         V10        \n",
       "5   0.21942223 -0.009430697  0.798278495  0.40854236 0.215153147  0.75307443\n",
       "18  0.07969240 -0.194795824 -0.672637997 -0.04702128 0.131023789 -0.73797982\n",
       "21  0.08655340 -0.295582932 -0.571955007 -0.13833394 0.063498649  0.56852074\n",
       "28  0.04233526 -0.284375572 -0.323357411 -0.52295094 0.028822300  0.86855855\n",
       "32  0.02905740 -0.053233660 -0.004760151 -0.27383237 0.004452631  0.08226226\n",
       "35 -0.07830550  0.049525687  0.206536543 -0.28326378 0.025427378 -0.48247447\n",
       "   V12        V17        V16        V3        V7         V14        V4        \n",
       "5   0.5381956 -0.2370332 -0.4514492 1.5487178  0.5929407 -1.1196698  0.4030339\n",
       "18  0.2771921 -0.9287093  1.1431737 0.9245908  0.7076416 -0.2918965 -0.7272191\n",
       "21  1.2983287  0.5156635 -2.0445575 1.0292210 -0.8785859 -0.3726510  0.8341593\n",
       "28 -0.1113158 -0.2169352 -1.3558707 0.4345550 -0.2649050  0.1719451  0.5760377\n",
       "32  0.6266990  0.1582562 -0.5291082 0.4937025 -0.1187600  0.5207879  1.3357600\n",
       "35  0.8534474 -0.3096334 -0.2859125 1.3510763  0.6930393  0.1022521  0.1475755\n",
       "   V18         V9         V11        V26         Class\n",
       "5  -0.03819479  0.8177393 -0.8228429  0.50229222 0    \n",
       "18  0.68046959 -0.6652714  0.3240978 -0.04902673 0    \n",
       "21  0.62584730 -0.4461958  1.0191506 -0.42223443 0    \n",
       "28  1.27176539 -1.0714246 -0.6415063 -0.28015817 0    \n",
       "32 -0.39875148  0.2056868  1.1335557 -0.33771813 0    \n",
       "35 -0.40390199 -0.2856419  0.8717996 -0.55347097 0    "
      ]
     },
     "metadata": {},
     "output_type": "display_data"
    }
   ],
   "source": [
    "table(crdt_crd_nw$Class)\n",
    "\n",
    "\n",
    "# Create Training and Test data -\n",
    "set.seed(100)  # setting seed to reproduce results of random sampling\n",
    "trainingRowIndex <- sample(1:nrow(crdt_crd_nw), 0.8*nrow(crdt_crd_nw))  # row indices for training data\n",
    "trainingData <- crdt_crd_nw[trainingRowIndex, ]  # model training data\n",
    "testData  <- crdt_crd_nw[-trainingRowIndex, ]   # test data\n",
    "\n",
    "head(testData )"
   ]
  },
  {
   "cell_type": "code",
   "execution_count": 18,
   "metadata": {},
   "outputs": [
    {
     "data": {
      "text/html": [
       "<dl class=dl-horizontal>\n",
       "\t<dt>5</dt>\n",
       "\t\t<dd>0.000280520866602834</dd>\n",
       "\t<dt>18</dt>\n",
       "\t\t<dd>0.000186371999069574</dd>\n",
       "\t<dt>21</dt>\n",
       "\t\t<dd>0.000175589808082496</dd>\n",
       "\t<dt>28</dt>\n",
       "\t\t<dd>0.000106123515745069</dd>\n",
       "\t<dt>32</dt>\n",
       "\t\t<dd>0.000322348256888277</dd>\n",
       "\t<dt>35</dt>\n",
       "\t\t<dd>0.000508647795424579</dd>\n",
       "</dl>\n"
      ],
      "text/latex": [
       "\\begin{description*}\n",
       "\\item[5] 0.000280520866602834\n",
       "\\item[18] 0.000186371999069574\n",
       "\\item[21] 0.000175589808082496\n",
       "\\item[28] 0.000106123515745069\n",
       "\\item[32] 0.000322348256888277\n",
       "\\item[35] 0.000508647795424579\n",
       "\\end{description*}\n"
      ],
      "text/markdown": [
       "5\n",
       ":   0.00028052086660283418\n",
       ":   0.00018637199906957421\n",
       ":   0.00017558980808249628\n",
       ":   0.00010612351574506932\n",
       ":   0.00032234825688827735\n",
       ":   0.000508647795424579\n",
       "\n"
      ],
      "text/plain": [
       "           5           18           21           28           32           35 \n",
       "0.0002805209 0.0001863720 0.0001755898 0.0001061235 0.0003223483 0.0005086478 "
      ]
     },
     "metadata": {},
     "output_type": "display_data"
    }
   ],
   "source": [
    "logitMod <- glm(Class ~ V10+V14+V4+V27+V21+V22+V20+V28+V3+V4+V9, \n",
    "                data=trainingData, \n",
    "                family=binomial(link=\"logit\"))\n",
    "\n",
    "#predicted <- plogis(predict(logitMod, testData))  # predicted scores\n",
    "# or\n",
    "predicted <- predict(logitMod, testData, type=\"response\")  # predicted scores\n",
    "head(predicted)"
   ]
  },
  {
   "cell_type": "code",
   "execution_count": 19,
   "metadata": {},
   "outputs": [
    {
     "data": {
      "text/plain": [
       "\n",
       "Call:  glm(formula = Class ~ V10 + V14 + V4 + V27 + V21 + V22 + V20 + \n",
       "    V28 + V3 + V4 + V9, family = binomial(link = \"logit\"), data = trainingData)\n",
       "\n",
       "Coefficients:\n",
       "(Intercept)          V10          V14           V4          V27          V21  \n",
       "    -8.6778      -0.9511      -0.6217       0.6997      -0.8123       0.4953  \n",
       "        V22          V20          V28           V3           V9  \n",
       "     0.5594      -0.3457      -0.2935       0.1924      -0.1466  \n",
       "\n",
       "Degrees of Freedom: 227844 Total (i.e. Null);  227834 Residual\n",
       "Null Deviance:\t    5989 \n",
       "Residual Deviance: 1843 \tAIC: 1865"
      ]
     },
     "metadata": {},
     "output_type": "display_data"
    },
    {
     "data": {
      "text/plain": [
       "\n",
       "Call:\n",
       "glm(formula = Class ~ V10 + V14 + V4 + V27 + V21 + V22 + V20 + \n",
       "    V28 + V3 + V4 + V9, family = binomial(link = \"logit\"), data = trainingData)\n",
       "\n",
       "Deviance Residuals: \n",
       "    Min       1Q   Median       3Q      Max  \n",
       "-4.8029  -0.0294  -0.0191  -0.0121   4.9748  \n",
       "\n",
       "Coefficients:\n",
       "            Estimate Std. Error z value Pr(>|z|)    \n",
       "(Intercept) -8.67781    0.14297 -60.696  < 2e-16 ***\n",
       "V10         -0.95110    0.08411 -11.308  < 2e-16 ***\n",
       "V14         -0.62169    0.04436 -14.015  < 2e-16 ***\n",
       "V4           0.69975    0.05583  12.533  < 2e-16 ***\n",
       "V27         -0.81228    0.10294  -7.891 3.01e-15 ***\n",
       "V21          0.49532    0.06243   7.934 2.12e-15 ***\n",
       "V22          0.55941    0.12377   4.520 6.19e-06 ***\n",
       "V20         -0.34574    0.05182  -6.672 2.53e-11 ***\n",
       "V28         -0.29350    0.07897  -3.717 0.000202 ***\n",
       "V3           0.19241    0.03198   6.017 1.77e-09 ***\n",
       "V9          -0.14661    0.08280  -1.771 0.076603 .  \n",
       "---\n",
       "Signif. codes:  0 '***' 0.001 '**' 0.01 '*' 0.05 '.' 0.1 ' ' 1\n",
       "\n",
       "(Dispersion parameter for binomial family taken to be 1)\n",
       "\n",
       "    Null deviance: 5989.2  on 227844  degrees of freedom\n",
       "Residual deviance: 1843.0  on 227834  degrees of freedom\n",
       "AIC: 1865\n",
       "\n",
       "Number of Fisher Scoring iterations: 11\n"
      ]
     },
     "metadata": {},
     "output_type": "display_data"
    }
   ],
   "source": [
    "logitMod\n",
    "summary(logitMod)"
   ]
  },
  {
   "cell_type": "code",
   "execution_count": 20,
   "metadata": {},
   "outputs": [
    {
     "data": {
      "image/png": "[encoded data removed]",
      "text/plain": [
       "plot without title"
      ]
     },
     "metadata": {},
     "output_type": "display_data"
    }
   ],
   "source": [
    "library(InformationValue)\n",
    "plotROC(testData, predicted)"
   ]
  }
 ],
 "metadata": {
  "kernelspec": {
   "display_name": "R",
   "language": "R",
   "name": "ir"
  },
  "language_info": {
   "codemirror_mode": "r",
   "file_extension": ".r",
   "mimetype": "text/x-r-source",
   "name": "R",
   "pygments_lexer": "r",
   "version": "3.5.2"
  }
 },
 "nbformat": 4,
 "nbformat_minor": 2
}
