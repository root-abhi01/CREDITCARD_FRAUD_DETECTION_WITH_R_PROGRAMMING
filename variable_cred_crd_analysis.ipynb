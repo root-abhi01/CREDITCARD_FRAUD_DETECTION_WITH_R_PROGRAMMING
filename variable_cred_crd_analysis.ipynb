{
 "cells": [
  {
   "cell_type": "code",
   "execution_count": 13,
   "metadata": {},
   "outputs": [
    {
     "name": "stdout",
     "output_type": "stream",
     "text": [
      "'data.frame':\t284807 obs. of  31 variables:\n",
      " $ Time  : num  0 0 1 1 2 2 4 7 7 9 ...\n",
      " $ V1    : num  -1.36 1.192 -1.358 -0.966 -1.158 ...\n",
      " $ V2    : num  -0.0728 0.2662 -1.3402 -0.1852 0.8777 ...\n",
      " $ V3    : num  2.536 0.166 1.773 1.793 1.549 ...\n",
      " $ V4    : num  1.378 0.448 0.38 -0.863 0.403 ...\n",
      " $ V5    : num  -0.3383 0.06 -0.5032 -0.0103 -0.4072 ...\n",
      " $ V6    : num  0.4624 -0.0824 1.8005 1.2472 0.0959 ...\n",
      " $ V7    : num  0.2396 -0.0788 0.7915 0.2376 0.5929 ...\n",
      " $ V8    : num  0.0987 0.0851 0.2477 0.3774 -0.2705 ...\n",
      " $ V9    : num  0.364 -0.255 -1.515 -1.387 0.818 ...\n",
      " $ V10   : num  0.0908 -0.167 0.2076 -0.055 0.7531 ...\n",
      " $ V11   : num  -0.552 1.613 0.625 -0.226 -0.823 ...\n",
      " $ V12   : num  -0.6178 1.0652 0.0661 0.1782 0.5382 ...\n",
      " $ V13   : num  -0.991 0.489 0.717 0.508 1.346 ...\n",
      " $ V14   : num  -0.311 -0.144 -0.166 -0.288 -1.12 ...\n",
      " $ V15   : num  1.468 0.636 2.346 -0.631 0.175 ...\n",
      " $ V16   : num  -0.47 0.464 -2.89 -1.06 -0.451 ...\n",
      " $ V17   : num  0.208 -0.115 1.11 -0.684 -0.237 ...\n",
      " $ V18   : num  0.0258 -0.1834 -0.1214 1.9658 -0.0382 ...\n",
      " $ V19   : num  0.404 -0.146 -2.262 -1.233 0.803 ...\n",
      " $ V20   : num  0.2514 -0.0691 0.525 -0.208 0.4085 ...\n",
      " $ V21   : num  -0.01831 -0.22578 0.248 -0.1083 -0.00943 ...\n",
      " $ V22   : num  0.27784 -0.63867 0.77168 0.00527 0.79828 ...\n",
      " $ V23   : num  -0.11 0.101 0.909 -0.19 -0.137 ...\n",
      " $ V24   : num  0.0669 -0.3398 -0.6893 -1.1756 0.1413 ...\n",
      " $ V25   : num  0.129 0.167 -0.328 0.647 -0.206 ...\n",
      " $ V26   : num  -0.189 0.126 -0.139 -0.222 0.502 ...\n",
      " $ V27   : num  0.13356 -0.00898 -0.05535 0.06272 0.21942 ...\n",
      " $ V28   : num  -0.0211 0.0147 -0.0598 0.0615 0.2152 ...\n",
      " $ Amount: num  149.62 2.69 378.66 123.5 69.99 ...\n",
      " $ Class : int  0 0 0 0 0 0 0 0 0 0 ...\n",
      " Factor w/ 2 levels \"0\",\"1\": 1 1 1 1 1 1 1 1 1 1 ...\n"
     ]
    }
   ],
   "source": [
    "dataset<-read.csv(\"D:\\\\R_TXT_MINE_DATA\\\\creditcard.csv\",header = TRUE,\n",
    "                   stringsAsFactors = FALSE,\n",
    "                   strip.white = TRUE ,\n",
    "                   sep = ',')\n",
    "\n",
    "#checking overall dataset and coverting 'class' as factor variables \n",
    "str(dataset)\n",
    "dataset$Class = as.factor(dataset$Class)\n",
    "str(dataset$Class)"
   ]
  },
  {
   "cell_type": "code",
   "execution_count": 15,
   "metadata": {},
   "outputs": [
    {
     "data": {
      "text/html": [
       "<ol class=list-inline>\n",
       "\t<li>0.00582379308680496</li>\n",
       "\t<li>0.000104705276056044</li>\n",
       "\t<li>0.0147389218704021</li>\n",
       "\t<li>0.00480710096391132</li>\n",
       "\t<li>0.00272428337217938</li>\n",
       "\t<li>0.000142850692611778</li>\n",
       "</ol>\n"
      ],
      "text/latex": [
       "\\begin{enumerate*}\n",
       "\\item 0.00582379308680496\n",
       "\\item 0.000104705276056044\n",
       "\\item 0.0147389218704021\n",
       "\\item 0.00480710096391132\n",
       "\\item 0.00272428337217938\n",
       "\\item 0.000142850692611778\n",
       "\\end{enumerate*}\n"
      ],
      "text/markdown": [
       "1. 0.00582379308680496\n",
       "2. 0.000104705276056044\n",
       "3. 0.0147389218704021\n",
       "4. 0.00480710096391132\n",
       "5. 0.00272428337217938\n",
       "6. 0.000142850692611778\n",
       "\n",
       "\n"
      ],
      "text/plain": [
       "[1] 0.0058237931 0.0001047053 0.0147389219 0.0048071010 0.0027242834\n",
       "[6] 0.0001428507"
      ]
     },
     "metadata": {},
     "output_type": "display_data"
    },
    {
     "ename": "ERROR",
     "evalue": "Error in cor(dataset$Time, dataset$Class): 'x' must be numeric\n",
     "output_type": "error",
     "traceback": [
      "Error in cor(dataset$Time, dataset$Class): 'x' must be numeric\nTraceback:\n",
      "1. cor(dataset$Time, dataset$Class)",
      "2. stop(\"'x' must be numeric\")"
     ]
    }
   ],
   "source": [
    "#Excluding 'Time' variable from dataset for further analysis\n",
    "dataset = dataset[,2:31]\n",
    "# Feature Scaling for 'amount'\n",
    "library(scales)\n",
    "dataset[,29] = rescale(dataset[,29], to = c(0,1))\n",
    "head(dataset$Amount)"
   ]
  },
  {
   "cell_type": "code",
   "execution_count": 16,
   "metadata": {},
   "outputs": [
    {
     "data": {
      "text/html": [
       "<dl class=dl-horizontal>\n",
       "\t<dt>0</dt>\n",
       "\t\t<dd>284315</dd>\n",
       "\t<dt>1</dt>\n",
       "\t\t<dd>492</dd>\n",
       "</dl>\n"
      ],
      "text/latex": [
       "\\begin{description*}\n",
       "\\item[0] 284315\n",
       "\\item[1] 492\n",
       "\\end{description*}\n"
      ],
      "text/markdown": [
       "0\n",
       ":   2843151\n",
       ":   492\n",
       "\n"
      ],
      "text/plain": [
       "     0      1 \n",
       "284315    492 "
      ]
     },
     "metadata": {},
     "output_type": "display_data"
    },
    {
     "data": {
      "text/plain": [
       "\n",
       "          0           1 \n",
       "0.998272514 0.001727486 "
      ]
     },
     "metadata": {},
     "output_type": "display_data"
    }
   ],
   "source": [
    "#To overcome the imbalance in dataset I'll apply oversampling \n",
    "#Checking imbalance in the dataset\n",
    "summary(dataset$Class)\n",
    "prop.table(table(dataset$Class)) #99.8% proper transaction, 0.2% fraud. \n"
   ]
  },
  {
   "cell_type": "code",
   "execution_count": 17,
   "metadata": {},
   "outputs": [
    {
     "data": {
      "text/html": [
       "<dl class=dl-horizontal>\n",
       "\t<dt>0</dt>\n",
       "\t\t<dd>284315</dd>\n",
       "\t<dt>1</dt>\n",
       "\t\t<dd>284315</dd>\n",
       "</dl>\n"
      ],
      "text/latex": [
       "\\begin{description*}\n",
       "\\item[0] 284315\n",
       "\\item[1] 284315\n",
       "\\end{description*}\n"
      ],
      "text/markdown": [
       "0\n",
       ":   2843151\n",
       ":   284315\n",
       "\n"
      ],
      "text/plain": [
       "     0      1 \n",
       "284315 284315 "
      ]
     },
     "metadata": {},
     "output_type": "display_data"
    }
   ],
   "source": [
    "#install.packages(\"ROSE\")\n",
    "#Implementing oversampling\n",
    "library(ROSE)\n",
    "dataset = ovun.sample(Class~., data = dataset, method = 'over', \n",
    "                      N = 2*284315, seed = 1234)$data\n",
    "summary(dataset$Class)"
   ]
  },
  {
   "cell_type": "code",
   "execution_count": 18,
   "metadata": {},
   "outputs": [
    {
     "data": {
      "text/html": [
       "<dl class=dl-horizontal>\n",
       "\t<dt>0</dt>\n",
       "\t\t<dd>227452</dd>\n",
       "\t<dt>1</dt>\n",
       "\t\t<dd>227452</dd>\n",
       "</dl>\n"
      ],
      "text/latex": [
       "\\begin{description*}\n",
       "\\item[0] 227452\n",
       "\\item[1] 227452\n",
       "\\end{description*}\n"
      ],
      "text/markdown": [
       "0\n",
       ":   2274521\n",
       ":   227452\n",
       "\n"
      ],
      "text/plain": [
       "     0      1 \n",
       "227452 227452 "
      ]
     },
     "metadata": {},
     "output_type": "display_data"
    },
    {
     "data": {
      "text/html": [
       "<dl class=dl-horizontal>\n",
       "\t<dt>0</dt>\n",
       "\t\t<dd>56863</dd>\n",
       "\t<dt>1</dt>\n",
       "\t\t<dd>56863</dd>\n",
       "</dl>\n"
      ],
      "text/latex": [
       "\\begin{description*}\n",
       "\\item[0] 56863\n",
       "\\item[1] 56863\n",
       "\\end{description*}\n"
      ],
      "text/markdown": [
       "0\n",
       ":   568631\n",
       ":   56863\n",
       "\n"
      ],
      "text/plain": [
       "    0     1 \n",
       "56863 56863 "
      ]
     },
     "metadata": {},
     "output_type": "display_data"
    }
   ],
   "source": [
    "\n",
    "# Splitting the dataset into the Training set and Test set\n",
    "# install.packages('caTools')\n",
    "library(caTools)\n",
    "set.seed(123)\n",
    "split = sample.split(dataset$Class, SplitRatio = 0.8)\n",
    "training = subset(dataset, split == TRUE)\n",
    "test = subset(dataset, split == FALSE)\n",
    "summary(training$Class)\n",
    "summary(test$Class)"
   ]
  },
  {
   "cell_type": "code",
   "execution_count": 26,
   "metadata": {},
   "outputs": [],
   "source": [
    "#fitting random forest classifier model \n",
    "#install.packages(\"randomForest\")\n",
    "\n",
    "library(randomForest)\n",
    "set.seed(123)\n",
    "classifier = randomForest(x = training[-30],\n",
    "                          y = training$Class,\n",
    "                          ntree = 50)\n",
    "\n",
    "# Predicting the Test set results\n",
    "y_pred = predict(classifier, newdata = test[-31])\n"
   ]
  },
  {
   "cell_type": "code",
   "execution_count": 25,
   "metadata": {},
   "outputs": [
    {
     "name": "stderr",
     "output_type": "stream",
     "text": [
      "Warning message in Ops.factor(predictedScores, threshold):\n",
      "\"'<' not meaningful for factors\""
     ]
    },
    {
     "data": {
      "text/html": [
       "<table>\n",
       "<thead><tr><th scope=col>0</th><th scope=col>1</th></tr></thead>\n",
       "<tbody>\n",
       "</tbody>\n",
       "</table>\n"
      ],
      "text/latex": [
       "\\begin{tabular}{r|ll}\n",
       " 0 & 1\\\\\n",
       "\\hline\n",
       "\\end{tabular}\n"
      ],
      "text/markdown": [
       "\n",
       "0 | 1 | \n",
       "||\n",
       "\n",
       "\n"
      ],
      "text/plain": [
       "     0 1"
      ]
     },
     "metadata": {},
     "output_type": "display_data"
    },
    {
     "name": "stderr",
     "output_type": "stream",
     "text": [
      "Warning message in Ops.factor(y_pred, 0.8):\n",
      "\"'>' not meaningful for factors\""
     ]
    },
    {
     "data": {
      "text/plain": [
       "< table of extent 2 x 0 >"
      ]
     },
     "metadata": {},
     "output_type": "display_data"
    }
   ],
   "source": [
    "# Making the Confusion Matrix\n",
    "library(caret)\n",
    "confusionMatrix(test$Class,y_pred)\n",
    "table(test$Class,y_pred > 0.8)"
   ]
  },
  {
   "cell_type": "code",
   "execution_count": 27,
   "metadata": {},
   "outputs": [
    {
     "data": {
      "image/png": "[encoded data removed]",
      "text/plain": [
       "Plot with title \"Top 10 Most Important Variables\""
      ]
     },
     "metadata": {},
     "output_type": "display_data"
    }
   ],
   "source": [
    "set.seed(123) \n",
    "library(randomForest)\n",
    "options(repr.plot.width=5, repr.plot.height=4)\n",
    "varImpPlot(classifier,\n",
    "          sort = T,\n",
    "           n.var=10,\n",
    "           main=\"Top 10 Most Important Variables\")"
   ]
  }
 ],
 "metadata": {
  "kernelspec": {
   "display_name": "R",
   "language": "R",
   "name": "ir"
  },
  "language_info": {
   "codemirror_mode": "r",
   "file_extension": ".r",
   "mimetype": "text/x-r-source",
   "name": "R",
   "pygments_lexer": "r",
   "version": "3.5.2"
  }
 },
 "nbformat": 4,
 "nbformat_minor": 2
}
